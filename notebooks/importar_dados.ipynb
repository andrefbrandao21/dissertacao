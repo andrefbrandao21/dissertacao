{
 "cells": [
  {
   "cell_type": "markdown",
   "metadata": {},
   "source": [
    "# Importar dados\n",
    "\n",
    "descrever objetivo do notebook"
   ]
  },
  {
   "cell_type": "markdown",
   "metadata": {},
   "source": [
    "#### Configurações"
   ]
  },
  {
   "cell_type": "code",
   "execution_count": 1,
   "metadata": {},
   "outputs": [],
   "source": [
    "BASE_URL = \"ftp.ibge.gov.br\"\n",
    "BASE_DIR = \"Trabalho_e_Rendimento/Pesquisa_Nacional_por_Amostra_de_Domicilios_continua/Trimestral/Microdados\""
   ]
  },
  {
   "cell_type": "markdown",
   "metadata": {},
   "source": [
    "##### Importar pacotes\n"
   ]
  },
  {
   "cell_type": "code",
   "execution_count": 2,
   "metadata": {},
   "outputs": [],
   "source": [
    "from ftplib import FTP\n",
    "from os import path, mkdir, remove\n",
    "from zipfile import ZipFile"
   ]
  },
  {
   "cell_type": "markdown",
   "metadata": {},
   "source": [
    "##### Escanear arquivos no FTP"
   ]
  },
  {
   "cell_type": "code",
   "execution_count": 3,
   "metadata": {},
   "outputs": [],
   "source": [
    "files = []\n",
    "for year in range(2012, 2025):\n",
    "    ftp = FTP(BASE_URL, timeout=1000)\n",
    "    ftp.login()\n",
    "    #ftp.cwd(path.join(BASE_DIR, str(year)))\n",
    "    ftp.cwd(f\"{BASE_DIR}/{year}\")\n",
    "    dir_files = ftp.nlst()\n",
    "    for f in dir_files:\n",
    "        files.append(f\"{BASE_DIR}/{year}/{f}\")\n",
    "    ftp.quit()\n",
    "    "
   ]
  },
  {
   "cell_type": "markdown",
   "metadata": {},
   "source": [
    "##### Ciar diretório local de dados"
   ]
  },
  {
   "cell_type": "code",
   "execution_count": 5,
   "metadata": {},
   "outputs": [
    {
     "name": "stdout",
     "output_type": "stream",
     "text": [
      "Directory already exists\n"
     ]
    }
   ],
   "source": [
    "data_dir = path.join(path.abspath(\"..\"), \"dados\")\n",
    "try:\n",
    "    data_dir = mkdir(data_dir)\n",
    "except FileExistsError:\n",
    "    print(\"Directory already exists\")\n",
    "except Exception as error:\n",
    "    raise Exception(error)"
   ]
  },
  {
   "cell_type": "code",
   "execution_count": null,
   "metadata": {},
   "outputs": [],
   "source": []
  },
  {
   "cell_type": "markdown",
   "metadata": {},
   "source": [
    "##### Baixar e Salvar arquivos"
   ]
  },
  {
   "cell_type": "code",
   "execution_count": null,
   "metadata": {},
   "outputs": [
    {
     "name": "stdout",
     "output_type": "stream",
     "text": [
      "Downloading PNADC_012012_20220916.zip. Please wait...\n",
      "Downloading PNADC_022012_20220916.zip. Please wait...\n",
      "Downloading PNADC_032012_20220916.zip. Please wait...\n",
      "Downloading PNADC_042012_20220916.zip. Please wait...\n",
      "Downloading PNADC_012013_20220916.zip. Please wait...\n",
      "Downloading PNADC_022013_20220916.zip. Please wait...\n",
      "Downloading PNADC_032013_20220916.zip. Please wait...\n",
      "Downloading PNADC_042013_20220916.zip. Please wait...\n",
      "Downloading PNADC_012014_20220916.zip. Please wait...\n",
      "Downloading PNADC_022014_20220916.zip. Please wait...\n",
      "Downloading PNADC_032014_20220916.zip. Please wait...\n",
      "Downloading PNADC_042014_20220916.zip. Please wait...\n",
      "Downloading PNADC_012015_20220916.zip. Please wait...\n",
      "Downloading PNADC_022015_20220916.zip. Please wait...\n",
      "Downloading PNADC_032015_20220916.zip. Please wait...\n",
      "Downloading PNADC_042015_20220916.zip. Please wait...\n",
      "Downloading PNADC_012016_20220916.zip. Please wait...\n",
      "Downloading PNADC_022016_20220916.zip. Please wait...\n",
      "Downloading PNADC_032016_20220916.zip. Please wait...\n",
      "Downloading PNADC_042016_20220916.zip. Please wait...\n",
      "Downloading PNADC_012017_20220916.zip. Please wait...\n",
      "Downloading PNADC_022017_20220916.zip. Please wait...\n",
      "Downloading PNADC_032017_20220916.zip. Please wait...\n"
     ]
    }
   ],
   "source": [
    "for item in files:\n",
    "    ftp = FTP(BASE_URL, timeout=1000)\n",
    "    ftp.login()\n",
    "    filename = item.split(\"/\")[-1]\n",
    "    dest_file = path.join(data_dir, filename)\n",
    "    print(f\"Downloading {filename}. Please wait...\")\n",
    "    with open(dest_file, \"wb\") as file:\n",
    "        ftp.retrbinary(\"RETR \" + item, file.write)\n",
    "    ftp.close()\n",
    "    with ZipFile(dest_file, \"r\") as zip_ref:\n",
    "        files = zip_ref.namelist()\n",
    "        zip_ref.extractall(data_dir)\n",
    "    remove(dest_file)"
   ]
  },
  {
   "cell_type": "code",
   "execution_count": null,
   "metadata": {},
   "outputs": [],
   "source": [
    "print('olá')"
   ]
  }
 ],
 "metadata": {
  "kernelspec": {
   "display_name": "Python 3",
   "language": "python",
   "name": "python3"
  },
  "language_info": {
   "codemirror_mode": {
    "name": "ipython",
    "version": 3
   },
   "file_extension": ".py",
   "mimetype": "text/x-python",
   "name": "python",
   "nbconvert_exporter": "python",
   "pygments_lexer": "ipython3",
   "version": "3.12.8"
  }
 },
 "nbformat": 4,
 "nbformat_minor": 2
}
