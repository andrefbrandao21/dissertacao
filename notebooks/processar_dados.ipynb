{
 "cells": [
  {
   "cell_type": "markdown",
   "metadata": {},
   "source": [
    "# Processar dados\n",
    "\n",
    "descrever objetivo do notebook\n"
   ]
  },
  {
   "cell_type": "markdown",
   "metadata": {},
   "source": [
    "##### Importar pacotes"
   ]
  },
  {
   "cell_type": "code",
   "execution_count": 1,
   "metadata": {},
   "outputs": [],
   "source": [
    "#! pip install pandas\n",
    "from os import path, listdir\n",
    "import pandas as pd"
   ]
  },
  {
   "cell_type": "markdown",
   "metadata": {},
   "source": [
    "##### Configurações"
   ]
  },
  {
   "cell_type": "code",
   "execution_count": 2,
   "metadata": {},
   "outputs": [],
   "source": [
    "\n",
    "FIELDS = [\n",
    "    {'name': 'ano', 'width': (0,4) },\n",
    "    {'name': 'trimestre', 'width': (4,5) },\n",
    "    {'name': 'uf', 'width': (5,7) },\n",
    "    {'name': 'peso_calibrado', 'width': (57, 72) },\n",
    "    {'name': 'sexo', 'width': (93,94) },\n",
    "    {'name': 'idade', 'width': (102, 105) },\n",
    "    {'name': 'cor', 'width': (105, 106) },\n",
    "    {'name': 'escolaridade', 'width': (639,640) },\n",
    "    {'name': 'anos_estudo', 'width': (640, 642) }\n",
    "]"
   ]
  },
  {
   "cell_type": "markdown",
   "metadata": {},
   "source": [
    "##### Leitura e transformação\n",
    "\n",
    "Em fase de teste. Precisamos definir os campos de agregação já durante\n",
    "a leitura para reduzir o tamanho do dataframe final."
   ]
  },
  {
   "cell_type": "code",
   "execution_count": 5,
   "metadata": {},
   "outputs": [],
   "source": [
    "data_dir = path.join(path.abspath(\"..\"), \"dados\")\n",
    "files = [f for f in listdir(data_dir) if f.endswith('.txt')]\n",
    "\n",
    "data = pd.DataFrame(None)\n",
    "i = 1\n",
    "for f in files: \n",
    "    print(f'Reading file {f}...')\n",
    "    d = pd.read_fwf(\n",
    "        path.join(data_dir, f), colspecs = [v.get('width') for v in FIELDS], \n",
    "        names = [v.get('name') for v in FIELDS]\n",
    "        )\n",
    "    #aqui já devemos transformar cada planilha d para reduzir o número de linhas\n",
    "    # d = d.groupby(['idade', 'sexo', 'uf'], as_index=False)['peso_calibrado'].sum()\n",
    "    print(f'Appending to dataset')\n",
    "    data = pd.concat([data, d])\n",
    "    i += 1\n",
    "\n",
    "    # for test only\n",
    "    if i > 4:\n",
    "        break"
   ]
  },
  {
   "cell_type": "code",
   "execution_count": 8,
   "metadata": {},
   "outputs": [
    {
     "data": {
      "text/html": [
       "<div>\n",
       "<style scoped>\n",
       "    .dataframe tbody tr th:only-of-type {\n",
       "        vertical-align: middle;\n",
       "    }\n",
       "\n",
       "    .dataframe tbody tr th {\n",
       "        vertical-align: top;\n",
       "    }\n",
       "\n",
       "    .dataframe thead th {\n",
       "        text-align: right;\n",
       "    }\n",
       "</style>\n",
       "<table border=\"1\" class=\"dataframe\">\n",
       "  <thead>\n",
       "    <tr style=\"text-align: right;\">\n",
       "      <th></th>\n",
       "    </tr>\n",
       "  </thead>\n",
       "  <tbody>\n",
       "  </tbody>\n",
       "</table>\n",
       "</div>"
      ],
      "text/plain": [
       "Empty DataFrame\n",
       "Columns: []\n",
       "Index: []"
      ]
     },
     "execution_count": 8,
     "metadata": {},
     "output_type": "execute_result"
    }
   ],
   "source": [
    "#baixar os dados pelo python"
   ]
  }
 ],
 "metadata": {
  "kernelspec": {
   "display_name": "Python 3",
   "language": "python",
   "name": "python3"
  },
  "language_info": {
   "codemirror_mode": {
    "name": "ipython",
    "version": 3
   },
   "file_extension": ".py",
   "mimetype": "text/x-python",
   "name": "python",
   "nbconvert_exporter": "python",
   "pygments_lexer": "ipython3",
   "version": "3.12.8"
  }
 },
 "nbformat": 4,
 "nbformat_minor": 2
}
